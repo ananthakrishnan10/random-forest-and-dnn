{
 "cells": [
  {
   "cell_type": "code",
   "execution_count": 1,
   "metadata": {},
   "outputs": [],
   "source": [
    "import os\n",
    "import cv2\n",
    "import random\n",
    "import numpy as np\n",
    "from skimage import io, color, img_as_ubyte\n",
    "from skimage.feature import greycomatrix, greycoprops\n",
    "import os\n",
    "from PIL import Image, ImageOps\n",
    "import numpy as np\n",
    "from keras_vggface.vggface import VGGFace\n",
    "from sklearn.preprocessing import LabelBinarizer\n",
    "import tensorflow as tf\n",
    "from tensorflow.python.keras import layers\n",
    "from tensorflow.python.keras import models\n",
    "import random\n",
    "from sklearn.model_selection import train_test_split\n",
    "import pickle\n",
    "\n",
    "\n",
    "model = VGGFace(model='resnet50')"
   ]
  },
  {
   "cell_type": "code",
   "execution_count": 2,
   "metadata": {},
   "outputs": [],
   "source": [
    "\n",
    "\n",
    "class glcm:\n",
    "    def __init__(self, image):\n",
    "        distance = [1, 2, 3]\n",
    "        angles = [0, np.pi/4, np.pi/2, 3*np.pi/4]\n",
    "        self.image = img_as_ubyte(image.astype('int64'))\n",
    "        self.glcm_mat = greycomatrix(self.image, distances = distance, angles = angles, symmetric = True, normed = True)\n",
    "        self.properties = ['correlation', 'homogeneity', 'contrast', 'energy']\n",
    "            \n",
    "    def correlation(self):\n",
    "        return greycoprops(self.glcm_mat, 'correlation').flatten()\n",
    "    \n",
    "    def homogeneity(self):\n",
    "        return greycoprops(self.glcm_mat, 'homogeneity').flatten()\n",
    "    \n",
    "    def contrast(self):\n",
    "        return greycoprops(self.glcm_mat, 'contrast').flatten()\n",
    "    \n",
    "    def energy(self):\n",
    "        return greycoprops(self.glcm_mat, 'energy').flatten()\n",
    "    \n",
    "    def glcm_all(self):\n",
    "        return np.hstack([greycoprops(self.glcm_mat, props).ravel() for props in self.properties])"
   ]
  },
  {
   "cell_type": "code",
   "execution_count": 3,
   "metadata": {},
   "outputs": [],
   "source": [
    "def extract_glcm_feature(img):\n",
    "    feats = glcm(img)\n",
    "    # energy\n",
    "    energy = feats.energy()\n",
    "    # correlation\n",
    "    corr = feats.correlation()\n",
    "    # contrast\n",
    "    cont = feats.contrast()\n",
    "    # homogeneity\n",
    "    homogeneity = feats.homogeneity()\n",
    "    # all the features at once\n",
    "    _all = feats.glcm_all()\n",
    "    return {\"energy\":energy,\n",
    "            \"corr\":corr, \n",
    "            \"cont\":cont, \n",
    "            \"homogeneity\":homogeneity, \n",
    "            \"_all\":_all}"
   ]
  },
  {
   "cell_type": "code",
   "execution_count": 4,
   "metadata": {},
   "outputs": [
    {
     "name": "stderr",
     "output_type": "stream",
     "text": [
      "C:\\Users\\user\\Anaconda3\\lib\\site-packages\\skimage\\util\\dtype.py:525: UserWarning: Downcasting int64 to uint8 without scaling because max value 87 fits in uint8\n",
      "  return _convert(image, np.uint8, force_copy)\n"
     ]
    },
    {
     "name": "stdout",
     "output_type": "stream",
     "text": [
      "[ 0.96079968  0.9787254   0.97024738  0.9134136   0.90049676  0.9787254\n",
      "  0.92006303  0.9134136   0.85896475  0.94695266  0.87519117  0.83035806\n",
      "  0.80638675  0.79633071  0.81262921  0.77740831  0.76290263  0.79633071\n",
      "  0.76389014  0.77740831  0.75714175  0.77333179  0.75199753  0.7528404\n",
      "  4.50783442  2.44463226  3.41902997  9.94952432 11.44172074  2.44463226\n",
      "  9.17909516  9.94952432 16.21652466  6.09067307 14.32102435 19.47765336\n",
      "  0.14650718  0.14226142  0.14792634  0.13946595  0.13601599  0.14226142\n",
      "  0.13595822  0.13946595  0.13545363  0.13789257  0.13394757  0.13449008]\n"
     ]
    }
   ],
   "source": [
    "\n",
    "Qry = Image.open('bg-4.jpg')\n",
    "Qry = Qry.convert(\"RGB\")\n",
    "Qry = cv2.cvtColor(np.asarray(Qry), cv2.COLOR_RGB2BGR)\n",
    "Qry = cv2.cvtColor(Qry, cv2.COLOR_BGR2GRAY)\n",
    "\n",
    "print(extract_glcm_feature(Qry)['_all'])"
   ]
  },
  {
   "cell_type": "code",
   "execution_count": 8,
   "metadata": {},
   "outputs": [
    {
     "name": "stdout",
     "output_type": "stream",
     "text": [
      "a\n",
      "ananthan\n",
      "['x_lista', 'x_listananthan']\n",
      "['y_lista', 'y_listananthan']\n"
     ]
    }
   ],
   "source": [
    "x_classList = []\n",
    "y_classList = []\n",
    "base_path='images/'\n",
    "source_path=base_path\n",
    "for child in os.listdir(source_path):\n",
    "    print(child)\n",
    "    X_list = 'x_list'+str(child)\n",
    "    Y_list = 'y_list'+str(child)\n",
    "    vars()[X_list] = []\n",
    "    vars()[Y_list] = []\n",
    "    x_classList.append(X_list)\n",
    "    y_classList.append(Y_list)\n",
    "    sub_path = os.path.join(source_path, child)\n",
    "    bsub_path = os.path.join(base_path, child)\n",
    "    if os.path.isdir(sub_path):\n",
    "        for data_file in os.listdir(sub_path):\n",
    "            Qry = Image.open(os.path.join(sub_path, data_file))\n",
    "            Qry = Qry.convert(\"RGB\")\n",
    "            vars()[X_list].append(Qry)\n",
    "            vars()[Y_list].append(child)\n",
    "#     print(vars()[X_list])\n",
    "#     print(vars()[Y_list])\n",
    "print(x_classList)\n",
    "print(y_classList)"
   ]
  },
  {
   "cell_type": "code",
   "execution_count": 19,
   "metadata": {},
   "outputs": [
    {
     "name": "stderr",
     "output_type": "stream",
     "text": [
      "C:\\Users\\user\\Anaconda3\\lib\\site-packages\\skimage\\util\\dtype.py:525: UserWarning: Downcasting int64 to uint8 without scaling because max value 170 fits in uint8\n",
      "  return _convert(image, np.uint8, force_copy)\n",
      "C:\\Users\\user\\Anaconda3\\lib\\site-packages\\skimage\\util\\dtype.py:525: UserWarning: Downcasting int64 to uint8 without scaling because max value 162 fits in uint8\n",
      "  return _convert(image, np.uint8, force_copy)\n",
      "C:\\Users\\user\\Anaconda3\\lib\\site-packages\\skimage\\util\\dtype.py:525: UserWarning: Downcasting int64 to uint8 without scaling because max value 154 fits in uint8\n",
      "  return _convert(image, np.uint8, force_copy)\n",
      "C:\\Users\\user\\Anaconda3\\lib\\site-packages\\skimage\\util\\dtype.py:525: UserWarning: Downcasting int64 to uint8 without scaling because max value 163 fits in uint8\n",
      "  return _convert(image, np.uint8, force_copy)\n",
      "C:\\Users\\user\\Anaconda3\\lib\\site-packages\\skimage\\util\\dtype.py:525: UserWarning: Downcasting int64 to uint8 without scaling because max value 159 fits in uint8\n",
      "  return _convert(image, np.uint8, force_copy)\n",
      "C:\\Users\\user\\Anaconda3\\lib\\site-packages\\skimage\\util\\dtype.py:525: UserWarning: Downcasting int64 to uint8 without scaling because max value 161 fits in uint8\n",
      "  return _convert(image, np.uint8, force_copy)\n",
      "C:\\Users\\user\\Anaconda3\\lib\\site-packages\\skimage\\util\\dtype.py:525: UserWarning: Downcasting int64 to uint8 without scaling because max value 169 fits in uint8\n",
      "  return _convert(image, np.uint8, force_copy)\n",
      "C:\\Users\\user\\Anaconda3\\lib\\site-packages\\skimage\\util\\dtype.py:525: UserWarning: Downcasting int64 to uint8 without scaling because max value 182 fits in uint8\n",
      "  return _convert(image, np.uint8, force_copy)\n",
      "C:\\Users\\user\\Anaconda3\\lib\\site-packages\\skimage\\util\\dtype.py:525: UserWarning: Downcasting int64 to uint8 without scaling because max value 180 fits in uint8\n",
      "  return _convert(image, np.uint8, force_copy)\n",
      "C:\\Users\\user\\Anaconda3\\lib\\site-packages\\skimage\\util\\dtype.py:525: UserWarning: Downcasting int64 to uint8 without scaling because max value 183 fits in uint8\n",
      "  return _convert(image, np.uint8, force_copy)\n",
      "C:\\Users\\user\\Anaconda3\\lib\\site-packages\\skimage\\util\\dtype.py:525: UserWarning: Downcasting int64 to uint8 without scaling because max value 185 fits in uint8\n",
      "  return _convert(image, np.uint8, force_copy)\n",
      "C:\\Users\\user\\Anaconda3\\lib\\site-packages\\skimage\\util\\dtype.py:525: UserWarning: Downcasting int64 to uint8 without scaling because max value 184 fits in uint8\n",
      "  return _convert(image, np.uint8, force_copy)\n",
      "C:\\Users\\user\\Anaconda3\\lib\\site-packages\\skimage\\util\\dtype.py:525: UserWarning: Downcasting int64 to uint8 without scaling because max value 216 fits in uint8\n",
      "  return _convert(image, np.uint8, force_copy)\n",
      "C:\\Users\\user\\Anaconda3\\lib\\site-packages\\ipykernel_launcher.py:34: DataConversionWarning: A column-vector y was passed when a 1d array was expected. Please change the shape of y to (n_samples,), for example using ravel().\n"
     ]
    },
    {
     "name": "stdout",
     "output_type": "stream",
     "text": [
      "Random forest Accuracy: 1.0\n",
      "Epoch 1/5\n",
      "WARNING:tensorflow:Model was constructed with shape (None, 7, 8631) for input Tensor(\"dense_80_input:0\", shape=(None, 7, 8631), dtype=float32), but it was called on an input with incompatible shape (4, 8631).\n",
      "WARNING:tensorflow:Model was constructed with shape (None, 7, 8631) for input Tensor(\"dense_80_input:0\", shape=(None, 7, 8631), dtype=float32), but it was called on an input with incompatible shape (4, 8631).\n",
      "4/4 [==============================] - 0s 41ms/step - loss: 0.6931 - accuracy: 0.4375\n",
      "Epoch 2/5\n",
      "4/4 [==============================] - 0s 6ms/step - loss: 0.6931 - accuracy: 0.6250\n",
      "Epoch 3/5\n",
      "4/4 [==============================] - 0s 5ms/step - loss: 0.6931 - accuracy: 0.5000\n",
      "Epoch 4/5\n",
      "4/4 [==============================] - 0s 6ms/step - loss: 0.6931 - accuracy: 0.4375\n",
      "Epoch 5/5\n",
      "4/4 [==============================] - 0s 6ms/step - loss: 0.6931 - accuracy: 0.4375\n",
      "WARNING:tensorflow:Model was constructed with shape (None, 7, 8631) for input Tensor(\"dense_80_input:0\", shape=(None, 7, 8631), dtype=float32), but it was called on an input with incompatible shape (None, 8631).\n",
      "1/1 [==============================] - 0s 2ms/step - loss: 0.6931 - accuracy: 0.7500\n",
      "CNN accuracy: 0.75\n",
      "cnn\n"
     ]
    },
    {
     "name": "stderr",
     "output_type": "stream",
     "text": [
      "C:\\Users\\user\\Anaconda3\\lib\\site-packages\\skimage\\util\\dtype.py:525: UserWarning: Downcasting int64 to uint8 without scaling because max value 170 fits in uint8\n",
      "  return _convert(image, np.uint8, force_copy)\n",
      "C:\\Users\\user\\Anaconda3\\lib\\site-packages\\skimage\\util\\dtype.py:525: UserWarning: Downcasting int64 to uint8 without scaling because max value 162 fits in uint8\n",
      "  return _convert(image, np.uint8, force_copy)\n",
      "C:\\Users\\user\\Anaconda3\\lib\\site-packages\\skimage\\util\\dtype.py:525: UserWarning: Downcasting int64 to uint8 without scaling because max value 154 fits in uint8\n",
      "  return _convert(image, np.uint8, force_copy)\n",
      "C:\\Users\\user\\Anaconda3\\lib\\site-packages\\skimage\\util\\dtype.py:525: UserWarning: Downcasting int64 to uint8 without scaling because max value 163 fits in uint8\n",
      "  return _convert(image, np.uint8, force_copy)\n",
      "C:\\Users\\user\\Anaconda3\\lib\\site-packages\\skimage\\util\\dtype.py:525: UserWarning: Downcasting int64 to uint8 without scaling because max value 159 fits in uint8\n",
      "  return _convert(image, np.uint8, force_copy)\n",
      "C:\\Users\\user\\Anaconda3\\lib\\site-packages\\skimage\\util\\dtype.py:525: UserWarning: Downcasting int64 to uint8 without scaling because max value 161 fits in uint8\n",
      "  return _convert(image, np.uint8, force_copy)\n",
      "C:\\Users\\user\\Anaconda3\\lib\\site-packages\\skimage\\util\\dtype.py:525: UserWarning: Downcasting int64 to uint8 without scaling because max value 169 fits in uint8\n",
      "  return _convert(image, np.uint8, force_copy)\n",
      "C:\\Users\\user\\Anaconda3\\lib\\site-packages\\skimage\\util\\dtype.py:525: UserWarning: Downcasting int64 to uint8 without scaling because max value 182 fits in uint8\n",
      "  return _convert(image, np.uint8, force_copy)\n",
      "C:\\Users\\user\\Anaconda3\\lib\\site-packages\\skimage\\util\\dtype.py:525: UserWarning: Downcasting int64 to uint8 without scaling because max value 180 fits in uint8\n",
      "  return _convert(image, np.uint8, force_copy)\n",
      "C:\\Users\\user\\Anaconda3\\lib\\site-packages\\skimage\\util\\dtype.py:525: UserWarning: Downcasting int64 to uint8 without scaling because max value 183 fits in uint8\n",
      "  return _convert(image, np.uint8, force_copy)\n",
      "C:\\Users\\user\\Anaconda3\\lib\\site-packages\\skimage\\util\\dtype.py:525: UserWarning: Downcasting int64 to uint8 without scaling because max value 185 fits in uint8\n",
      "  return _convert(image, np.uint8, force_copy)\n",
      "C:\\Users\\user\\Anaconda3\\lib\\site-packages\\skimage\\util\\dtype.py:525: UserWarning: Downcasting int64 to uint8 without scaling because max value 184 fits in uint8\n",
      "  return _convert(image, np.uint8, force_copy)\n",
      "C:\\Users\\user\\Anaconda3\\lib\\site-packages\\skimage\\util\\dtype.py:525: UserWarning: Downcasting int64 to uint8 without scaling because max value 216 fits in uint8\n",
      "  return _convert(image, np.uint8, force_copy)\n",
      "C:\\Users\\user\\Anaconda3\\lib\\site-packages\\ipykernel_launcher.py:34: DataConversionWarning: A column-vector y was passed when a 1d array was expected. Please change the shape of y to (n_samples,), for example using ravel().\n"
     ]
    },
    {
     "name": "stdout",
     "output_type": "stream",
     "text": [
      "Random forest Accuracy: 1.0\n",
      "Epoch 1/5\n",
      "WARNING:tensorflow:Model was constructed with shape (None, 7, 8631) for input Tensor(\"dense_85_input:0\", shape=(None, 7, 8631), dtype=float32), but it was called on an input with incompatible shape (4, 8631).\n",
      "WARNING:tensorflow:Model was constructed with shape (None, 7, 8631) for input Tensor(\"dense_85_input:0\", shape=(None, 7, 8631), dtype=float32), but it was called on an input with incompatible shape (4, 8631).\n",
      "2/4 [==============>...............] - ETA: 0s - loss: 0.6932 - accuracy: 0.5000WARNING:tensorflow:Method (on_train_batch_end) is slow compared to the batch update (0.157383). Check your callbacks.\n",
      "4/4 [==============================] - 0s 82ms/step - loss: 0.6931 - accuracy: 0.5000\n",
      "Epoch 2/5\n",
      "4/4 [==============================] - 0s 5ms/step - loss: 0.6931 - accuracy: 0.5625\n",
      "Epoch 3/5\n",
      "4/4 [==============================] - 0s 6ms/step - loss: 0.6931 - accuracy: 0.3125\n",
      "Epoch 4/5\n",
      "4/4 [==============================] - 0s 5ms/step - loss: 0.6931 - accuracy: 0.6250\n",
      "Epoch 5/5\n",
      "4/4 [==============================] - 0s 6ms/step - loss: 0.6931 - accuracy: 0.4375\n",
      "WARNING:tensorflow:Model was constructed with shape (None, 7, 8631) for input Tensor(\"dense_85_input:0\", shape=(None, 7, 8631), dtype=float32), but it was called on an input with incompatible shape (None, 8631).\n",
      "1/1 [==============================] - 0s 0s/step - loss: 0.6931 - accuracy: 0.7500\n",
      "CNN accuracy: 0.75\n",
      "cnn\n"
     ]
    },
    {
     "name": "stderr",
     "output_type": "stream",
     "text": [
      "C:\\Users\\user\\Anaconda3\\lib\\site-packages\\skimage\\util\\dtype.py:525: UserWarning: Downcasting int64 to uint8 without scaling because max value 170 fits in uint8\n",
      "  return _convert(image, np.uint8, force_copy)\n",
      "C:\\Users\\user\\Anaconda3\\lib\\site-packages\\skimage\\util\\dtype.py:525: UserWarning: Downcasting int64 to uint8 without scaling because max value 162 fits in uint8\n",
      "  return _convert(image, np.uint8, force_copy)\n",
      "C:\\Users\\user\\Anaconda3\\lib\\site-packages\\skimage\\util\\dtype.py:525: UserWarning: Downcasting int64 to uint8 without scaling because max value 154 fits in uint8\n",
      "  return _convert(image, np.uint8, force_copy)\n",
      "C:\\Users\\user\\Anaconda3\\lib\\site-packages\\skimage\\util\\dtype.py:525: UserWarning: Downcasting int64 to uint8 without scaling because max value 163 fits in uint8\n",
      "  return _convert(image, np.uint8, force_copy)\n",
      "C:\\Users\\user\\Anaconda3\\lib\\site-packages\\skimage\\util\\dtype.py:525: UserWarning: Downcasting int64 to uint8 without scaling because max value 159 fits in uint8\n",
      "  return _convert(image, np.uint8, force_copy)\n",
      "C:\\Users\\user\\Anaconda3\\lib\\site-packages\\skimage\\util\\dtype.py:525: UserWarning: Downcasting int64 to uint8 without scaling because max value 161 fits in uint8\n",
      "  return _convert(image, np.uint8, force_copy)\n",
      "C:\\Users\\user\\Anaconda3\\lib\\site-packages\\skimage\\util\\dtype.py:525: UserWarning: Downcasting int64 to uint8 without scaling because max value 169 fits in uint8\n",
      "  return _convert(image, np.uint8, force_copy)\n",
      "C:\\Users\\user\\Anaconda3\\lib\\site-packages\\skimage\\util\\dtype.py:525: UserWarning: Downcasting int64 to uint8 without scaling because max value 182 fits in uint8\n",
      "  return _convert(image, np.uint8, force_copy)\n",
      "C:\\Users\\user\\Anaconda3\\lib\\site-packages\\skimage\\util\\dtype.py:525: UserWarning: Downcasting int64 to uint8 without scaling because max value 180 fits in uint8\n",
      "  return _convert(image, np.uint8, force_copy)\n",
      "C:\\Users\\user\\Anaconda3\\lib\\site-packages\\skimage\\util\\dtype.py:525: UserWarning: Downcasting int64 to uint8 without scaling because max value 183 fits in uint8\n",
      "  return _convert(image, np.uint8, force_copy)\n",
      "C:\\Users\\user\\Anaconda3\\lib\\site-packages\\skimage\\util\\dtype.py:525: UserWarning: Downcasting int64 to uint8 without scaling because max value 185 fits in uint8\n",
      "  return _convert(image, np.uint8, force_copy)\n",
      "C:\\Users\\user\\Anaconda3\\lib\\site-packages\\skimage\\util\\dtype.py:525: UserWarning: Downcasting int64 to uint8 without scaling because max value 184 fits in uint8\n",
      "  return _convert(image, np.uint8, force_copy)\n",
      "C:\\Users\\user\\Anaconda3\\lib\\site-packages\\skimage\\util\\dtype.py:525: UserWarning: Downcasting int64 to uint8 without scaling because max value 216 fits in uint8\n",
      "  return _convert(image, np.uint8, force_copy)\n",
      "C:\\Users\\user\\Anaconda3\\lib\\site-packages\\ipykernel_launcher.py:34: DataConversionWarning: A column-vector y was passed when a 1d array was expected. Please change the shape of y to (n_samples,), for example using ravel().\n"
     ]
    },
    {
     "name": "stdout",
     "output_type": "stream",
     "text": [
      "Random forest Accuracy: 1.0\n",
      "Epoch 1/5\n",
      "WARNING:tensorflow:Model was constructed with shape (None, 7, 8631) for input Tensor(\"dense_90_input:0\", shape=(None, 7, 8631), dtype=float32), but it was called on an input with incompatible shape (4, 8631).\n",
      "WARNING:tensorflow:Model was constructed with shape (None, 7, 8631) for input Tensor(\"dense_90_input:0\", shape=(None, 7, 8631), dtype=float32), but it was called on an input with incompatible shape (4, 8631).\n",
      "4/4 [==============================] - ETA: 0s - loss: 0.6932 - accuracy: 0.87 - 0s 48ms/step - loss: 0.6931 - accuracy: 0.8750\n",
      "Epoch 2/5\n",
      "4/4 [==============================] - 0s 8ms/step - loss: 0.6931 - accuracy: 0.5000\n",
      "Epoch 3/5\n",
      "4/4 [==============================] - 0s 6ms/step - loss: 0.6931 - accuracy: 0.6250\n",
      "Epoch 4/5\n",
      "4/4 [==============================] - 0s 6ms/step - loss: 0.6931 - accuracy: 0.6875\n",
      "Epoch 5/5\n",
      "4/4 [==============================] - 0s 6ms/step - loss: 0.6931 - accuracy: 0.5625\n",
      "WARNING:tensorflow:Model was constructed with shape (None, 7, 8631) for input Tensor(\"dense_90_input:0\", shape=(None, 7, 8631), dtype=float32), but it was called on an input with incompatible shape (None, 8631).\n",
      "1/1 [==============================] - 0s 3ms/step - loss: 0.6931 - accuracy: 0.5000\n",
      "CNN accuracy: 0.5\n",
      "cnn\n"
     ]
    },
    {
     "name": "stderr",
     "output_type": "stream",
     "text": [
      "C:\\Users\\user\\Anaconda3\\lib\\site-packages\\skimage\\util\\dtype.py:525: UserWarning: Downcasting int64 to uint8 without scaling because max value 170 fits in uint8\n",
      "  return _convert(image, np.uint8, force_copy)\n",
      "C:\\Users\\user\\Anaconda3\\lib\\site-packages\\skimage\\util\\dtype.py:525: UserWarning: Downcasting int64 to uint8 without scaling because max value 162 fits in uint8\n",
      "  return _convert(image, np.uint8, force_copy)\n",
      "C:\\Users\\user\\Anaconda3\\lib\\site-packages\\skimage\\util\\dtype.py:525: UserWarning: Downcasting int64 to uint8 without scaling because max value 154 fits in uint8\n",
      "  return _convert(image, np.uint8, force_copy)\n",
      "C:\\Users\\user\\Anaconda3\\lib\\site-packages\\skimage\\util\\dtype.py:525: UserWarning: Downcasting int64 to uint8 without scaling because max value 163 fits in uint8\n",
      "  return _convert(image, np.uint8, force_copy)\n",
      "C:\\Users\\user\\Anaconda3\\lib\\site-packages\\skimage\\util\\dtype.py:525: UserWarning: Downcasting int64 to uint8 without scaling because max value 159 fits in uint8\n",
      "  return _convert(image, np.uint8, force_copy)\n",
      "C:\\Users\\user\\Anaconda3\\lib\\site-packages\\skimage\\util\\dtype.py:525: UserWarning: Downcasting int64 to uint8 without scaling because max value 161 fits in uint8\n",
      "  return _convert(image, np.uint8, force_copy)\n",
      "C:\\Users\\user\\Anaconda3\\lib\\site-packages\\skimage\\util\\dtype.py:525: UserWarning: Downcasting int64 to uint8 without scaling because max value 169 fits in uint8\n",
      "  return _convert(image, np.uint8, force_copy)\n",
      "C:\\Users\\user\\Anaconda3\\lib\\site-packages\\skimage\\util\\dtype.py:525: UserWarning: Downcasting int64 to uint8 without scaling because max value 182 fits in uint8\n",
      "  return _convert(image, np.uint8, force_copy)\n",
      "C:\\Users\\user\\Anaconda3\\lib\\site-packages\\skimage\\util\\dtype.py:525: UserWarning: Downcasting int64 to uint8 without scaling because max value 180 fits in uint8\n",
      "  return _convert(image, np.uint8, force_copy)\n",
      "C:\\Users\\user\\Anaconda3\\lib\\site-packages\\skimage\\util\\dtype.py:525: UserWarning: Downcasting int64 to uint8 without scaling because max value 183 fits in uint8\n",
      "  return _convert(image, np.uint8, force_copy)\n",
      "C:\\Users\\user\\Anaconda3\\lib\\site-packages\\skimage\\util\\dtype.py:525: UserWarning: Downcasting int64 to uint8 without scaling because max value 185 fits in uint8\n",
      "  return _convert(image, np.uint8, force_copy)\n",
      "C:\\Users\\user\\Anaconda3\\lib\\site-packages\\skimage\\util\\dtype.py:525: UserWarning: Downcasting int64 to uint8 without scaling because max value 184 fits in uint8\n",
      "  return _convert(image, np.uint8, force_copy)\n",
      "C:\\Users\\user\\Anaconda3\\lib\\site-packages\\skimage\\util\\dtype.py:525: UserWarning: Downcasting int64 to uint8 without scaling because max value 216 fits in uint8\n",
      "  return _convert(image, np.uint8, force_copy)\n",
      "C:\\Users\\user\\Anaconda3\\lib\\site-packages\\ipykernel_launcher.py:34: DataConversionWarning: A column-vector y was passed when a 1d array was expected. Please change the shape of y to (n_samples,), for example using ravel().\n"
     ]
    },
    {
     "name": "stdout",
     "output_type": "stream",
     "text": [
      "Random forest Accuracy: 1.0\n",
      "Epoch 1/5\n",
      "WARNING:tensorflow:Model was constructed with shape (None, 7, 8631) for input Tensor(\"dense_95_input:0\", shape=(None, 7, 8631), dtype=float32), but it was called on an input with incompatible shape (4, 8631).\n",
      "WARNING:tensorflow:Model was constructed with shape (None, 7, 8631) for input Tensor(\"dense_95_input:0\", shape=(None, 7, 8631), dtype=float32), but it was called on an input with incompatible shape (4, 8631).\n",
      "4/4 [==============================] - 0s 41ms/step - loss: 0.6932 - accuracy: 0.5625\n",
      "Epoch 2/5\n",
      "4/4 [==============================] - 0s 6ms/step - loss: 0.6931 - accuracy: 0.5625\n",
      "Epoch 3/5\n",
      "4/4 [==============================] - 0s 7ms/step - loss: 0.6931 - accuracy: 0.5000\n",
      "Epoch 4/5\n",
      "4/4 [==============================] - 0s 6ms/step - loss: 0.6931 - accuracy: 0.4375\n",
      "Epoch 5/5\n",
      "4/4 [==============================] - 0s 6ms/step - loss: 0.6931 - accuracy: 0.5000\n",
      "WARNING:tensorflow:Model was constructed with shape (None, 7, 8631) for input Tensor(\"dense_95_input:0\", shape=(None, 7, 8631), dtype=float32), but it was called on an input with incompatible shape (None, 8631).\n",
      "1/1 [==============================] - 0s 2ms/step - loss: 0.6931 - accuracy: 0.5000\n",
      "CNN accuracy: 0.5\n",
      "cnn\n"
     ]
    },
    {
     "name": "stderr",
     "output_type": "stream",
     "text": [
      "C:\\Users\\user\\Anaconda3\\lib\\site-packages\\skimage\\util\\dtype.py:525: UserWarning: Downcasting int64 to uint8 without scaling because max value 170 fits in uint8\n",
      "  return _convert(image, np.uint8, force_copy)\n",
      "C:\\Users\\user\\Anaconda3\\lib\\site-packages\\skimage\\util\\dtype.py:525: UserWarning: Downcasting int64 to uint8 without scaling because max value 162 fits in uint8\n",
      "  return _convert(image, np.uint8, force_copy)\n",
      "C:\\Users\\user\\Anaconda3\\lib\\site-packages\\skimage\\util\\dtype.py:525: UserWarning: Downcasting int64 to uint8 without scaling because max value 154 fits in uint8\n",
      "  return _convert(image, np.uint8, force_copy)\n",
      "C:\\Users\\user\\Anaconda3\\lib\\site-packages\\skimage\\util\\dtype.py:525: UserWarning: Downcasting int64 to uint8 without scaling because max value 163 fits in uint8\n",
      "  return _convert(image, np.uint8, force_copy)\n",
      "C:\\Users\\user\\Anaconda3\\lib\\site-packages\\skimage\\util\\dtype.py:525: UserWarning: Downcasting int64 to uint8 without scaling because max value 159 fits in uint8\n",
      "  return _convert(image, np.uint8, force_copy)\n",
      "C:\\Users\\user\\Anaconda3\\lib\\site-packages\\skimage\\util\\dtype.py:525: UserWarning: Downcasting int64 to uint8 without scaling because max value 161 fits in uint8\n",
      "  return _convert(image, np.uint8, force_copy)\n",
      "C:\\Users\\user\\Anaconda3\\lib\\site-packages\\skimage\\util\\dtype.py:525: UserWarning: Downcasting int64 to uint8 without scaling because max value 169 fits in uint8\n",
      "  return _convert(image, np.uint8, force_copy)\n",
      "C:\\Users\\user\\Anaconda3\\lib\\site-packages\\skimage\\util\\dtype.py:525: UserWarning: Downcasting int64 to uint8 without scaling because max value 182 fits in uint8\n",
      "  return _convert(image, np.uint8, force_copy)\n",
      "C:\\Users\\user\\Anaconda3\\lib\\site-packages\\skimage\\util\\dtype.py:525: UserWarning: Downcasting int64 to uint8 without scaling because max value 180 fits in uint8\n",
      "  return _convert(image, np.uint8, force_copy)\n",
      "C:\\Users\\user\\Anaconda3\\lib\\site-packages\\skimage\\util\\dtype.py:525: UserWarning: Downcasting int64 to uint8 without scaling because max value 183 fits in uint8\n",
      "  return _convert(image, np.uint8, force_copy)\n",
      "C:\\Users\\user\\Anaconda3\\lib\\site-packages\\skimage\\util\\dtype.py:525: UserWarning: Downcasting int64 to uint8 without scaling because max value 185 fits in uint8\n",
      "  return _convert(image, np.uint8, force_copy)\n",
      "C:\\Users\\user\\Anaconda3\\lib\\site-packages\\skimage\\util\\dtype.py:525: UserWarning: Downcasting int64 to uint8 without scaling because max value 184 fits in uint8\n",
      "  return _convert(image, np.uint8, force_copy)\n",
      "C:\\Users\\user\\Anaconda3\\lib\\site-packages\\skimage\\util\\dtype.py:525: UserWarning: Downcasting int64 to uint8 without scaling because max value 216 fits in uint8\n",
      "  return _convert(image, np.uint8, force_copy)\n",
      "C:\\Users\\user\\Anaconda3\\lib\\site-packages\\ipykernel_launcher.py:34: DataConversionWarning: A column-vector y was passed when a 1d array was expected. Please change the shape of y to (n_samples,), for example using ravel().\n"
     ]
    },
    {
     "name": "stdout",
     "output_type": "stream",
     "text": [
      "Random forest Accuracy: 1.0\n",
      "Epoch 1/5\n",
      "WARNING:tensorflow:Model was constructed with shape (None, 7, 8631) for input Tensor(\"dense_100_input:0\", shape=(None, 7, 8631), dtype=float32), but it was called on an input with incompatible shape (4, 8631).\n",
      "WARNING:tensorflow:Model was constructed with shape (None, 7, 8631) for input Tensor(\"dense_100_input:0\", shape=(None, 7, 8631), dtype=float32), but it was called on an input with incompatible shape (4, 8631).\n",
      "4/4 [==============================] - 0s 46ms/step - loss: 0.6931 - accuracy: 0.3750\n",
      "Epoch 2/5\n",
      "4/4 [==============================] - 0s 6ms/step - loss: 0.6931 - accuracy: 0.4375\n",
      "Epoch 3/5\n",
      "4/4 [==============================] - 0s 7ms/step - loss: 0.6931 - accuracy: 0.5000\n",
      "Epoch 4/5\n",
      "4/4 [==============================] - 0s 6ms/step - loss: 0.6931 - accuracy: 0.3750\n",
      "Epoch 5/5\n",
      "4/4 [==============================] - 0s 7ms/step - loss: 0.6931 - accuracy: 0.5625\n",
      "WARNING:tensorflow:Model was constructed with shape (None, 7, 8631) for input Tensor(\"dense_100_input:0\", shape=(None, 7, 8631), dtype=float32), but it was called on an input with incompatible shape (None, 8631).\n",
      "1/1 [==============================] - 0s 0s/step - loss: 0.6931 - accuracy: 0.5000\n",
      "CNN accuracy: 0.5\n",
      "cnn\n",
      "0 5\n"
     ]
    }
   ],
   "source": [
    "from sklearn import metrics\n",
    "from sklearn.model_selection import train_test_split\n",
    "from sklearn.ensemble import RandomForestRegressor\n",
    "from sklearn.preprocessing import LabelBinarizer\n",
    "\n",
    "\n",
    "cnnCount = 0\n",
    "ranCount = 0\n",
    "for i in range(5):\n",
    "    X = []\n",
    "    for clas in x_classList:\n",
    "        sample = random.sample(vars()[clas], 10)\n",
    "        X.extend(sample)\n",
    "#     print(X)\n",
    "\n",
    "    Y = []\n",
    "    for clas in y_classList:\n",
    "        sample = random.sample(vars()[clas], 10)\n",
    "        Y.extend(sample)\n",
    "#     print(Y)\n",
    "    labelBinarizer = LabelBinarizer()\n",
    "    y = labelBinarizer.fit_transform(Y)\n",
    "    \n",
    "    X_glcm = []\n",
    "    for img in X:\n",
    "        img = cv2.cvtColor(np.asarray(img), cv2.COLOR_RGB2BGR)\n",
    "        img = cv2.cvtColor(img, cv2.COLOR_BGR2GRAY)\n",
    "        X_glcm.append(extract_glcm_feature(img)['_all'])\n",
    "#     print(X_glcm)\n",
    "    \n",
    "\n",
    "    X_train, X_test, y_train, y_test = train_test_split(X_glcm, y, test_size=0.2, random_state=0)\n",
    "    regressor = RandomForestRegressor(n_estimators=20, random_state=0)\n",
    "    regressor.fit(X_train, y_train)\n",
    "    y_pred = regressor.predict(X_test)\n",
    "    y_pred = y_pred.round()\n",
    "    randAccuracy = metrics.accuracy_score(y_test, y_pred)\n",
    "    print('Random forest Accuracy:', randAccuracy)\n",
    "\n",
    "\n",
    "\n",
    "\n",
    "\n",
    "\n",
    "    X_cnn = []\n",
    "    for img in X:\n",
    "        img = np.array(img.resize((224,224)))\n",
    "        img = img.reshape([-1,224,224,3])\n",
    "        features_train=model.predict([img])\n",
    "        X_cnn.append(features_train.flatten())\n",
    "#     print(X_cnn)\n",
    "    X_cnn = np.array(X_cnn)\n",
    "    X_train, X_test, y_train, y_test = train_test_split(X_cnn, y, test_size=0.2, random_state=0)\n",
    "    random.seed(42)\n",
    "    np.random.seed(42)\n",
    "    #tf.random.set_seed(42)\n",
    "\n",
    "\n",
    "    dnnModel=models.Sequential()\n",
    "    dnnModel.add(layers.Dense(100,activation=\"tanh\",input_shape=(7,8631)))\n",
    "    dnnModel.add(layers.Dense(50,activation=\"relu\"))\n",
    "    dnnModel.add(layers.Dense(30,activation=\"tanh\"))\n",
    "    dnnModel.add(layers.Dense(20,activation=\"relu\"))\n",
    "    dnnModel.add(layers.Dense(2,activation=\"softmax\"))\n",
    "#     dnnModel.summary()\n",
    "\n",
    "\n",
    "\n",
    "    dnnModel.compile(loss='binary_crossentropy', optimizer='adam', metrics=['accuracy'])\n",
    "\n",
    "    tbCallBack=tf.keras.callbacks.TensorBoard(log_dir='.\\Graph',histogram_freq=0,write_graph=True,write_images=True)\n",
    "    \n",
    "    dnnModel.fit(X_train,y_train,epochs=5,batch_size=4,callbacks=[tbCallBack])\n",
    "\n",
    "    testloss, testAccuracy=dnnModel.evaluate(X_test,y_test)\n",
    "    cnnAccuracy = testAccuracy\n",
    "    \n",
    "    print('CNN accuracy:', cnnAccuracy)\n",
    "    \n",
    "    if randAccuracy > cnnAccuracy:\n",
    "        ranCount += 1\n",
    "        print('random forest')\n",
    "    elif randAccuracy < cnnAccuracy:\n",
    "        cnnCount += 1\n",
    "        print('cnn')\n",
    "    else:\n",
    "        cnnCount += 1\n",
    "        ranCount += 1\n",
    "        print('cnn', 'random forest')\n",
    "        \n",
    "print(cnnCount, ranCount)"
   ]
  },
  {
   "cell_type": "code",
   "execution_count": 20,
   "metadata": {},
   "outputs": [
    {
     "name": "stderr",
     "output_type": "stream",
     "text": [
      "C:\\Users\\user\\Anaconda3\\lib\\site-packages\\skimage\\util\\dtype.py:525: UserWarning: Downcasting int64 to uint8 without scaling because max value 87 fits in uint8\n",
      "  return _convert(image, np.uint8, force_copy)\n"
     ]
    }
   ],
   "source": [
    "Qry = Image.open('bg-4.jpg')\n",
    "Qry = Qry.convert(\"RGB\")"
   ]
  },
  {
   "cell_type": "code",
   "execution_count": 47,
   "metadata": {},
   "outputs": [
    {
     "name": "stdout",
     "output_type": "stream",
     "text": [
      "0.50017726 0\n"
     ]
    }
   ],
   "source": [
    "cnn_img = np.array(Qry.resize((224,224)))\n",
    "cnn_img = cnn_img.reshape([-1,224,224,3])\n",
    "cnn_feature = features_train=model.predict([cnn_img])\n",
    "\n",
    "cnnProb = dnnModel.predict_proba(cnn_feature)\n",
    "cnnClass = dnnModel.predict_classes(cnn_feature)\n",
    "cnnProb = cnnProb[0][cnnClass[0]]\n",
    "\n",
    "print(cnnProb, cnnClass[0])"
   ]
  },
  {
   "cell_type": "code",
   "execution_count": 54,
   "metadata": {},
   "outputs": [
    {
     "name": "stderr",
     "output_type": "stream",
     "text": [
      "C:\\Users\\user\\Anaconda3\\lib\\site-packages\\skimage\\util\\dtype.py:525: UserWarning: Downcasting int64 to uint8 without scaling because max value 87 fits in uint8\n",
      "  return _convert(image, np.uint8, force_copy)\n"
     ]
    },
    {
     "name": "stdout",
     "output_type": "stream",
     "text": [
      "0.05\n"
     ]
    }
   ],
   "source": [
    "glcm_img = cv2.cvtColor(np.asarray(Qry), cv2.COLOR_RGB2BGR)\n",
    "glcm_img = cv2.cvtColor(glcm_img, cv2.COLOR_BGR2GRAY)\n",
    "glcm_feature = (extract_glcm_feature(glcm_img)['_all']).reshape(1, -1)\n",
    "\n",
    "randProb = regressor.predict(glcm_feature)[0]\n",
    "\n",
    "print(randProb)"
   ]
  },
  {
   "cell_type": "code",
   "execution_count": 57,
   "metadata": {},
   "outputs": [
    {
     "name": "stdout",
     "output_type": "stream",
     "text": [
      "0.05\n"
     ]
    }
   ],
   "source": [
    "value = ((cnnProb*cnnCount)+(randProb*ranCount))/(cnnCount + ranCount)\n",
    "print(value)"
   ]
  },
  {
   "cell_type": "code",
   "execution_count": null,
   "metadata": {},
   "outputs": [],
   "source": []
  }
 ],
 "metadata": {
  "kernelspec": {
   "display_name": "Python 3",
   "language": "python",
   "name": "python3"
  },
  "language_info": {
   "codemirror_mode": {
    "name": "ipython",
    "version": 3
   },
   "file_extension": ".py",
   "mimetype": "text/x-python",
   "name": "python",
   "nbconvert_exporter": "python",
   "pygments_lexer": "ipython3",
   "version": "3.7.4"
  }
 },
 "nbformat": 4,
 "nbformat_minor": 2
}
